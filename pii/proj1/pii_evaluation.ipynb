{
 "cells": [
  {
   "cell_type": "code",
   "execution_count": 3,
   "metadata": {},
   "outputs": [],
   "source": [
    "import pandas as pd\n",
    "import json\n",
    "import os\n",
    "import time\n",
    "import logging\n",
    "from tqdm import tqdm\n",
    "from concurrent.futures import ThreadPoolExecutor, as_completed\n",
    "import sys\n",
    "# Initialize logging\n",
    "logging.basicConfig(filename=\"pii_detection_errors.log\", level=logging.ERROR, \n",
    "                    format=\"%(asctime)s - %(levelname)s - %(message)s\")\n",
    "\n",
    "\n",
    "\n",
    "# Add PII system path\n",
    "\n",
    "pii_script_path = r\"C:\\Users\\ousse\\Desktop\\pii\\pii_protection\"\n",
    "sys.path.append(pii_script_path)\n",
    "\n",
    "# Now import it\n",
    "from pii import PIIProtectionLayer\n",
    "# Import the PII detection system\n"
   ]
  },
  {
   "cell_type": "code",
   "execution_count": 4,
   "metadata": {},
   "outputs": [
    {
     "name": "stderr",
     "output_type": "stream",
     "text": [
      "Both `device` and `device_map` are specified. `device` will override `device_map`. You will most likely encounter unexpected behavior. Please remove `device` and keep `device_map`.\n"
     ]
    },
    {
     "name": "stdout",
     "output_type": "stream",
     "text": [
      "🔍 Starting PII detection...\n",
      "\n"
     ]
    },
    {
     "name": "stderr",
     "output_type": "stream",
     "text": [
      "Processing Texts: 100%|██████████| 126/126 [05:32<00:00,  2.64s/text]"
     ]
    },
    {
     "name": "stdout",
     "output_type": "stream",
     "text": [
      "✅ Results saved to C:\\Users\\ousse\\Desktop\\pii\\pii_detection_results.json and C:\\Users\\ousse\\Desktop\\pii\\pii_detection_results.csv\n",
      "\n",
      "📊 Summary of Detected PII:\n",
      "Total Texts Processed: 126\n",
      "Total Entities Detected: 86\n",
      "Detection Methods Used:\n",
      "  - spacy: 65 detections\n",
      "  - regex: 21 detections\n"
     ]
    },
    {
     "name": "stderr",
     "output_type": "stream",
     "text": [
      "\n"
     ]
    }
   ],
   "source": [
    "import tqdm\n",
    "\n",
    "\n",
    "try:\n",
    "    from pii import PIIProtectionLayer\n",
    "except ModuleNotFoundError as e:\n",
    "    print(f\"❌ Error: Unable to import PII module. Check if 'pii.py' exists in: {pii_script_path}\")\n",
    "    raise e\n",
    "\n",
    "# File Paths\n",
    "file_path = \"C:\\\\Users\\\\ousse\\\\Desktop\\\\pii\\\\augmented_data_partial.csv\"\n",
    "output_json = \"C:\\\\Users\\\\ousse\\\\Desktop\\\\pii\\\\pii_detection_results.json\"\n",
    "output_csv = \"C:\\\\Users\\\\ousse\\\\Desktop\\\\pii\\\\pii_detection_results.csv\"\n",
    "\n",
    "# Load dataset\n",
    "def load_data(file_path):\n",
    "    try:\n",
    "        df = pd.read_csv(file_path)\n",
    "        if 'augmented_text' not in df.columns:\n",
    "            raise ValueError(\"Missing 'augmented_text' column in CSV\")\n",
    "        return df\n",
    "    except Exception as e:\n",
    "        print(f\"❌ Error loading CSV: {str(e)}\")\n",
    "        return None\n",
    "\n",
    "def process_texts(df, detector):\n",
    "    results = []\n",
    "    errors = []\n",
    "    \n",
    "    print(\"🔍 Starting PII detection...\\n\")\n",
    "    for index, row in tqdm.tqdm(df.iterrows(), total=len(df), desc=\"Processing Texts\", unit=\"text\"):\n",
    "        text = row['augmented_text']\n",
    "        try:\n",
    "            result = detector.analyze_text(text, language='en')\n",
    "            results.append(result)\n",
    "        except Exception as e:\n",
    "            error_msg = f\"Error processing row {index}: {str(e)}\"\n",
    "            print(f\"❌ {error_msg}\")\n",
    "            errors.append(error_msg)\n",
    "    \n",
    "    return results, errors\n",
    "\n",
    "# Fix JSON serialization issue\n",
    "def save_results(results, output_json, output_csv):\n",
    "    def convert_set(obj):\n",
    "        if isinstance(obj, set):\n",
    "            return list(obj)\n",
    "        raise TypeError(f\"Type {type(obj)} not serializable\")\n",
    "    \n",
    "    with open(output_json, 'w', encoding='utf-8') as f:\n",
    "        json.dump(results, f, indent=4, ensure_ascii=False, default=convert_set)\n",
    "    \n",
    "    flat_results = []\n",
    "    for res in results:\n",
    "        for entity in res['detected_entities']:\n",
    "            flat_results.append({\n",
    "                \"original_text\": res[\"original_text\"],\n",
    "                \"redacted_text\": res[\"redacted_text\"],\n",
    "                \"entity_text\": entity[\"text\"],\n",
    "                \"entity_type\": entity[\"type\"],\n",
    "                \"confidence\": entity[\"score\"],\n",
    "                \"method\": entity[\"method\"],\n",
    "                \"start\": entity[\"start\"],\n",
    "                \"end\": entity[\"end\"]\n",
    "            })\n",
    "    \n",
    "    df = pd.DataFrame(flat_results)\n",
    "    df.to_csv(output_csv, index=False, encoding='utf-8')\n",
    "    \n",
    "    print(f\"✅ Results saved to {output_json} and {output_csv}\")\n",
    "\n",
    "def generate_summary(results):\n",
    "    entity_count = sum(len(r[\"detected_entities\"]) for r in results)\n",
    "    method_counts = {}\n",
    "    for res in results:\n",
    "        for entity in res[\"detected_entities\"]:\n",
    "            method = entity[\"method\"]\n",
    "            method_counts[method] = method_counts.get(method, 0) + 1\n",
    "    \n",
    "    print(\"\\n📊 Summary of Detected PII:\")\n",
    "    print(f\"Total Texts Processed: {len(results)}\")\n",
    "    print(f\"Total Entities Detected: {entity_count}\")\n",
    "    print(\"Detection Methods Used:\")\n",
    "    for method, count in method_counts.items():\n",
    "        print(f\"  - {method}: {count} detections\")\n",
    "    return entity_count, method_counts\n",
    "\n",
    "# Main Execution\n",
    "df = load_data(file_path)\n",
    "\n",
    "if df is not None:\n",
    "    detector = PIIProtectionLayer()\n",
    "    results, errors = process_texts(df, detector)\n",
    "    \n",
    "    save_results(results, output_json, output_csv)\n",
    "    generate_summary(results)\n",
    "    \n",
    "    if errors:\n",
    "        print(\"\\n⚠️ Errors Encountered:\")\n",
    "        for error in errors[:5]:\n",
    "            print(f\"  - {error}\")\n",
    "        print(f\"  (Total Errors: {len(errors)})\")\n",
    "else:\n",
    "    print(\"❌ Could not process texts due to errors in loading data.\")"
   ]
  }
 ],
 "metadata": {
  "kernelspec": {
   "display_name": "venv",
   "language": "python",
   "name": "python3"
  },
  "language_info": {
   "codemirror_mode": {
    "name": "ipython",
    "version": 3
   },
   "file_extension": ".py",
   "mimetype": "text/x-python",
   "name": "python",
   "nbconvert_exporter": "python",
   "pygments_lexer": "ipython3",
   "version": "3.12.2"
  }
 },
 "nbformat": 4,
 "nbformat_minor": 2
}
