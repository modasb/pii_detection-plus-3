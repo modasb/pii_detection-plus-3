{
 "cells": [
  {
   "cell_type": "markdown",
   "id": "f32d4a69",
   "metadata": {},
   "source": [
    "# 📊 PII Detection Systems Comparison\n",
    "This notebook compares the evaluation results of two PII detection systems:\n",
    "\n",
    "1. **LLM-based system**\n",
    "2. **HF/SpaCy/Presidio system**\n",
    "\n",
    "The comparison focuses on the overlap of detected entities and calculates Precision, Recall, and F1-Score."
   ]
  },
  {
   "cell_type": "code",
   "execution_count": 1,
   "id": "295dba98",
   "metadata": {},
   "outputs": [],
   "source": [
    "\n",
    "import json\n",
    "import pandas as pd\n",
    "from sklearn.metrics import precision_recall_fscore_support\n"
   ]
  },
  {
   "cell_type": "code",
   "execution_count": 2,
   "id": "5bc3417e",
   "metadata": {},
   "outputs": [],
   "source": [
    "\n",
    "# Load the JSON files\n",
    "with open(\"C:/Users/ousse/Desktop/pii/augmented_data_partial_with_pii_detection.json\", \"r\", encoding=\"utf-8\") as f:\n",
    "    llm_data = json.load(f)\n",
    "\n",
    "with open(\"C:/Users/ousse/Desktop/pii_detection_results.json\", \"r\", encoding=\"utf-8\") as f:\n",
    "    hf_data = json.load(f)\n"
   ]
  },
  {
   "cell_type": "code",
   "execution_count": 3,
   "id": "ebaf6f69",
   "metadata": {},
   "outputs": [],
   "source": [
    "\n",
    "def extract_llm_entities(entry):\n",
    "    try:\n",
    "        return json.loads(entry[\"entities\"])\n",
    "    except json.JSONDecodeError:\n",
    "        return []\n",
    "\n",
    "def extract_hf_entities(entry):\n",
    "    return entry.get(\"detected_entities\", [])\n",
    "\n",
    "def normalize_entities(entities, system):\n",
    "    normalized = []\n",
    "    for entity in entities:\n",
    "        normalized.append({\n",
    "            \"text\": entity[\"text\"].lower(),\n",
    "            \"type\": entity[\"type\"],\n",
    "            \"system\": system\n",
    "        })\n",
    "    return normalized\n",
    "\n",
    "llm_entities = []\n",
    "hf_entities = []\n",
    "\n",
    "for llm_entry, hf_entry in zip(llm_data, hf_data):\n",
    "    llm_entities.extend(normalize_entities(extract_llm_entities(llm_entry), \"LLM\"))\n",
    "    hf_entities.extend(normalize_entities(extract_hf_entities(hf_entry), \"HF\"))\n"
   ]
  },
  {
   "cell_type": "code",
   "execution_count": 5,
   "id": "9dd023ce",
   "metadata": {},
   "outputs": [
    {
     "data": {
      "text/html": [
       "<div>\n",
       "<style scoped>\n",
       "    .dataframe tbody tr th:only-of-type {\n",
       "        vertical-align: middle;\n",
       "    }\n",
       "\n",
       "    .dataframe tbody tr th {\n",
       "        vertical-align: top;\n",
       "    }\n",
       "\n",
       "    .dataframe thead th {\n",
       "        text-align: right;\n",
       "    }\n",
       "</style>\n",
       "<table border=\"1\" class=\"dataframe\">\n",
       "  <thead>\n",
       "    <tr style=\"text-align: right;\">\n",
       "      <th></th>\n",
       "      <th>Total LLM Entities</th>\n",
       "      <th>Total HF Entities</th>\n",
       "      <th>True Positives</th>\n",
       "      <th>False Positives (LLM only)</th>\n",
       "      <th>False Negatives (HF only)</th>\n",
       "      <th>Precision</th>\n",
       "      <th>Recall</th>\n",
       "      <th>F1 Score</th>\n",
       "    </tr>\n",
       "  </thead>\n",
       "  <tbody>\n",
       "    <tr>\n",
       "      <th>0</th>\n",
       "      <td>2281</td>\n",
       "      <td>1013</td>\n",
       "      <td>26</td>\n",
       "      <td>2255</td>\n",
       "      <td>987</td>\n",
       "      <td>0.011399</td>\n",
       "      <td>0.025666</td>\n",
       "      <td>0.015786</td>\n",
       "    </tr>\n",
       "  </tbody>\n",
       "</table>\n",
       "</div>"
      ],
      "text/plain": [
       "   Total LLM Entities  Total HF Entities  True Positives  \\\n",
       "0                2281               1013              26   \n",
       "\n",
       "   False Positives (LLM only)  False Negatives (HF only)  Precision    Recall  \\\n",
       "0                        2255                        987   0.011399  0.025666   \n",
       "\n",
       "   F1 Score  \n",
       "0  0.015786  "
      ]
     },
     "execution_count": 5,
     "metadata": {},
     "output_type": "execute_result"
    }
   ],
   "source": [
    "\n",
    "llm_texts = set((e[\"text\"], e[\"type\"]) for e in llm_entities)\n",
    "hf_texts = set((e[\"text\"], e[\"type\"]) for e in hf_entities)\n",
    "\n",
    "true_positives = llm_texts & hf_texts\n",
    "false_positives = llm_texts - hf_texts\n",
    "false_negatives = hf_texts - llm_texts\n",
    "\n",
    "precision = len(true_positives) / (len(true_positives) + len(false_positives)) if (len(true_positives) + len(false_positives)) else 0\n",
    "recall = len(true_positives) / (len(true_positives) + len(false_negatives)) if (len(true_positives) + len(false_negatives)) else 0\n",
    "f1_score = (2 * precision * recall) / (precision + recall) if (precision + recall) else 0\n",
    "\n",
    "results = {\n",
    "    \"Total LLM Entities\": len(llm_texts),\n",
    "    \"Total HF Entities\": len(hf_texts),\n",
    "    \"True Positives\": len(true_positives),\n",
    "    \"False Positives (LLM only)\": len(false_positives),\n",
    "    \"False Negatives (HF only)\": len(false_negatives),\n",
    "    \"Precision\": precision,\n",
    "    \"Recall\": recall,\n",
    "    \"F1 Score\": f1_score\n",
    "}\n",
    "\n",
    "results_df = pd.DataFrame([results])\n",
    "results_df\n"
   ]
  },
  {
   "cell_type": "code",
   "execution_count": 6,
   "id": "1a1b264a",
   "metadata": {},
   "outputs": [
    {
     "data": {
      "image/png": "[encoded data removed]",
      "text/plain": [
       "<Figure size 800x500 with 1 Axes>"
      ]
     },
     "metadata": {},
     "output_type": "display_data"
    }
   ],
   "source": [
    "\n",
    "import matplotlib.pyplot as plt\n",
    "\n",
    "metrics = [\"Precision\", \"Recall\", \"F1 Score\"]\n",
    "values = [precision, recall, f1_score]\n",
    "\n",
    "plt.figure(figsize=(8, 5))\n",
    "plt.bar(metrics, values)\n",
    "plt.title(\"Comparison Metrics\")\n",
    "plt.ylim(0, 1)\n",
    "plt.ylabel(\"Score\")\n",
    "plt.show()\n"
   ]
  }
 ],
 "metadata": {
  "kernelspec": {
   "display_name": "venv",
   "language": "python",
   "name": "python3"
  },
  "language_info": {
   "codemirror_mode": {
    "name": "ipython",
    "version": 3
   },
   "file_extension": ".py",
   "mimetype": "text/x-python",
   "name": "python",
   "nbconvert_exporter": "python",
   "pygments_lexer": "ipython3",
   "version": "3.12.2"
  }
 },
 "nbformat": 4,
 "nbformat_minor": 5
}
